{
 "cells": [
  {
   "cell_type": "markdown",
   "metadata": {},
   "source": [
    "## Y2: Computing: Finding the roots of a function using scipy.optimize.bisect\n",
    "This notebook demonstrates how to use `scipy.optimize.bisect`, in this example to find the roots of the function $f(x)=\\sqrt(x)-3cos(3x)$ in the interval (0, 2).  "
   ]
  },
  {
   "cell_type": "code",
   "execution_count": 1,
   "metadata": {},
   "outputs": [],
   "source": [
    "# Relevant imports\n",
    "import numpy as np\n",
    "import scipy.optimize as optimize\n",
    "import matplotlib.pyplot as plt\n",
    "%matplotlib inline\n",
    "\n",
    "# Function definition (accepts a numpy array)\n",
    "def f(x):\n",
    "    return np.sqrt(x) - 3*np.cos(3*x)"
   ]
  },
  {
   "cell_type": "markdown",
   "metadata": {},
   "source": [
    "The `bisect` method must be involked over an interval that contains exactly one root. The function $f(x)$ defined above is plotted below to help determine suitable intervals."
   ]
  },
  {
   "cell_type": "code",
   "execution_count": 2,
   "metadata": {},
   "outputs": [
    {
     "data": {
      "image/png": "[encoded data removed]",
      "text/plain": [
       "<Figure size 720x432 with 1 Axes>"
      ]
     },
     "metadata": {
      "needs_background": "light"
     },
     "output_type": "display_data"
    }
   ],
   "source": [
    "# array of 1000 samples\n",
    "x = np.linspace(1e-08,2,1000) \n",
    "\n",
    "# Create new figure object to plot on (see final cell of notebook) \n",
    "fig = plt.figure(figsize=(10,6)) \n",
    "plt.xlabel(r'$x$', fontsize=16) \n",
    "plt.ylabel(r'$f(x)$', fontsize=16) \n",
    "# Surround a matplotlib text string with $ to render with mathtext \n",
    "# (r marks a raw string literal (special characters need not be escaped)\n",
    "plt.axis([np.amin(x), np.amax(x), -5, 5]) \n",
    "plt.plot(x, f(x), label=r'$f(x)$') \n",
    "plt.legend(fontsize=16)\n",
    "plt.grid(True)\n",
    "plt.show() # Display the current figure "
   ]
  },
  {
   "cell_type": "markdown",
   "metadata": {},
   "source": [
    "There are clearly two roots of $f(x) = 0$ in the interval (0, 2), and suitable intervals on which to call the `.bisect` method are (0.2, 0.8) and (1.5, 2.0). \n",
    "\n",
    "Each call to the bisect method can return only one root, and when called with an interval (a,b)\n",
    "the values for `f(a)` and `f(b)` **must** have different signs otherwise the call will fail."
   ]
  },
  {
   "cell_type": "code",
   "execution_count": 3,
   "metadata": {},
   "outputs": [
    {
     "name": "stdout",
     "output_type": "stream",
     "text": [
      "The first root of f(x) in the interval (0,2) is x = 0.44855,\n",
      "and the second root is x = 1.7217.\n"
     ]
    }
   ],
   "source": [
    "# calling biset twice to find both roots.\n",
    "first_root = optimize.bisect(f, 0.2, 0.8)\n",
    "second_root = optimize.bisect(f, 1.5, 2.0)\n",
    "print((\"The first root of f(x) in the interval (0,2) is x = {:.5f},\\n\" +\n",
    "      \"and the second root is x = {:.5}.\").format(first_root, second_root))"
   ]
  },
  {
   "cell_type": "markdown",
   "metadata": {},
   "source": [
    "**Cross Check**"
   ]
  },
  {
   "cell_type": "markdown",
   "metadata": {},
   "source": [
    "It's important to cross-check our results, to test whether we compute wrong results due to a simple mistake, such as a typo. We can for example do that by plotting the results together with the previous graph:"
   ]
  },
  {
   "cell_type": "code",
   "execution_count": null,
   "metadata": {},
   "outputs": [],
   "source": [
    "x = np.linspace(1e-08,2,1000) \n",
    "fig = plt.figure(figsize=(10,6)) \n",
    "plt.title('Plotting the zeros of a function', fontsize=20) \n",
    "plt.xlabel(r'$x$', fontsize=16) \n",
    "plt.ylabel(r'$f(x)$', fontsize=16) \n",
    "plt.axis([np.amin(x), np.amax(x), -5, 5]) \n",
    "plt.plot(x, f(x), label=r'$f(x)$') \n",
    "plt.legend(fontsize=16)\n",
    "\n",
    "plt.axhline(y=0, color='k', linestyle='--')\n",
    "plt.axvline(x=first_root, color='k', linestyle='--')\n",
    "plt.axvline(x=second_root, color='k', linestyle='--')\n",
    "\n",
    "plt.show() "
   ]
  },
  {
   "cell_type": "markdown",
   "metadata": {},
   "source": [
    "### Aside: figure objects in `matplotlib.pyplot`\n",
    "A call to `plt.plot` automatically creates a new figure and axes objects on which to plot, provided that one does not already exist. However, a new figure object can also be explicitly created using `plt.figure` as above, giving a handle on the figure object and hence a greater degree of control (above we specify its frame size in inches: 10x6). The current figure object may also be retrieved using `plt.gcf()`. Subsequent calls to pyplot functions (`plt.plot`, `plt.xlabel`, etc.) will default to adding or modifying this figure object.\n",
    "\n",
    "More information on figure and axis objects may be found in the `matplotlib` [documentation.](http://matplotlib.org/faq/usage_faq.html#parts-of-a-figure)"
   ]
  }
 ],
 "metadata": {
  "kernelspec": {
   "display_name": "Python 3",
   "language": "python",
   "name": "python3"
  },
  "language_info": {
   "codemirror_mode": {
    "name": "ipython",
    "version": 3
   },
   "file_extension": ".py",
   "mimetype": "text/x-python",
   "name": "python",
   "nbconvert_exporter": "python",
   "pygments_lexer": "ipython3",
   "version": "3.7.6"
  }
 },
 "nbformat": 4,
 "nbformat_minor": 2
}
