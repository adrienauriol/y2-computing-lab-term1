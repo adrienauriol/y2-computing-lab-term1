{
 "cells": [
  {
   "cell_type": "markdown",
   "metadata": {},
   "source": [
    "# Assignment 1: Electron in a finite potential well &ndash; for demonstrators\n",
    "## Y2 Computing (2021/22), weeks 3&ndash;4\n",
    "\n",
    "You should work through the tasks, as outlined below, by working within this notebook.\n",
    "By the end of the assignment you must upload this file, containing the original content and your answers, to Canvas for marking. Note that the **deadlines** for the assignments are different for each laboratory group. Check the Canvas pages carefully for the deadlines of your assignments!\n",
    "\n",
    "This assignment consists of a brief introduction to the problem followed by five short assessed tasks. In total, there are 20 marks, with the number of marks available for each task indicated in the task headers.\n",
    "\n",
    "Your results will be marked using a automatic script that expects your answers in a very specific format and cannot provide marks for 'almost correct' results. Please follow the instructions below exactly.\n",
    "\n",
    "***\n",
    "\n",
    "**Before you submit the assignment**  \n",
    "After completing the tasks below you must upload this file to Canvas, see the 'How to Submit' page on Canvas for further information.\n",
    "\n",
    "It is useful to perform the following actions sometimes while you are working on the notebook, in order to catch potential problems early, rather than 5 minutes before the submission deadline.\n",
    "\n",
    "Before you submit the notebook, you should do the following.\n",
    " * After you have completed your response to each task, you should run the final cell of this notebook containing the call ```student.check()```. This will check that the naming you have used for the variables and functions in this assignment is correct.\n",
    " * Select 'Kernel &rarr; Restart & Run All' in the Jupyter menu. This will reset and restart the notebook and run all your code sequentially, similar to what marking script will do.\n",
    " * Check that no errors occured and that the results are the same you had before. If something has changed, this is usually because you might have used some in-memory values in your notebook before, that are not available when run properly."
   ]
  },
  {
   "cell_type": "markdown",
   "metadata": {},
   "source": [
    "## The system to investigate\n",
    "\n",
    "The aim of this assignment is to find the bound state energy eigenvalues (meaning $E < V_0$) for an electron subject to the potential: \n",
    "\n",
    "$$ V(x) = \\begin{cases} \n",
    "      V_0, & |x| \\geq \\frac{a}{2} \\\\\n",
    "      0, & |x| \\lt \\frac{a}{2}\n",
    "   \\end{cases}\n",
    "$$\n",
    "\n",
    "We will use your student ID number to customize the problem. In this case, the width $a$ and the potential $V_0$ will be set differently for each student. \n",
    "\n",
    "Enter your student ID in the variable studentID and execute the cell below. This will import the code for your assignment and generate the personalised parameters of the problem. Make sure the execution of the code acknowledges that the student ID is valid.\n",
    "\n",
    "Then, continue to answer the outlined questions below.  \n"
   ]
  },
  {
   "cell_type": "code",
   "execution_count": 1,
   "metadata": {},
   "outputs": [
    {
     "name": "stdout",
     "output_type": "stream",
     "text": [
      "*** Using a temporary ID. Switch to your own ID as soon as possible. ***\n",
      "\n",
      "The cell width is a = 1.99e-09 m and potential is V0 = 2.99 eV.\n",
      "\n",
      "Do not overwrite these values, and do not use manually set values.\n",
      "\n",
      "Instead reference the variables \"a\" and \"V0\" directly where needed.\n",
      "\n"
     ]
    }
   ],
   "source": [
    "# Enter your student ID here:\n",
    "studentID = 0\n",
    "\n",
    "# Do not alter any of the code within this cell other than the value of studentID above\n",
    "from module_engine.assignment import Assignment1\n",
    "student = Assignment1(studentID) \n",
    "a, V0 = student.get_parameters()"
   ]
  },
  {
   "cell_type": "markdown",
   "metadata": {},
   "source": [
    "This potential with your well parameters is plotted using the code below."
   ]
  },
  {
   "cell_type": "code",
   "execution_count": 2,
   "metadata": {},
   "outputs": [
    {
     "data": {
      "image/png": "[encoded data removed]",
      "text/plain": [
       "<Figure size 432x288 with 1 Axes>"
      ]
     },
     "metadata": {
      "needs_background": "light"
     },
     "output_type": "display_data"
    }
   ],
   "source": [
    "import numpy as np\n",
    "import matplotlib.pyplot as plt\n",
    "%matplotlib inline\n",
    "\n",
    "x = np.linspace(-a, a, num=1000)\n",
    "# Each point of x is mapped to V0 if abs(x) >= a / 2 and 0 otherwise\n",
    "potential_array = np.piecewise(x, [abs(x) >= a / 2, abs(x) < a / 2],[V0, 0])\n",
    "plt.title('The Finite Square Well Potential')\n",
    "plt.xlabel(r'$x / m$')\n",
    "plt.ylabel(r'$V(x) / eV$')\n",
    "# np.amin and np.amax return the maximum and minimum values of an array respectively\n",
    "plt.axis([np.amin(x), np.amax(x), 0, 4/3*np.amax(potential_array)])\n",
    "plt.plot(x, potential_array)\n",
    "plt.show()"
   ]
  },
  {
   "cell_type": "markdown",
   "metadata": {},
   "source": [
    "For an electron in this potential, one can define a dimensionless parameter $x$ (not related to the coordinate $x$ above!) related to the energy $E$ as\n",
    "\n",
    "$$x=\\displaystyle \\frac{a}{\\hbar}\\sqrt{\\frac{mE}{2}}.$$\n",
    "\n",
    "Here $a$ is the well width, $\\hbar$ is the reduced Planck's constant, and $m$ is the mass of the electron, all in SI units. It can be shown (see Quantum Mechanics 2) that finding the energy eigenvalues reduces to finding the values of $x$ that satisfy one of the following equations:\n",
    "\n",
    "$$\\tan x = \\frac{\\sqrt{\\lambda_0 - x^2}}{x}, \\quad\\quad (1)$$\n",
    "\n",
    "$$-\\cot x = \\frac{\\sqrt{\\lambda_0 - x^2}}{x}, \\quad\\quad (2)$$\n",
    "\n",
    "where $\\lambda_0 = ma^2V_0 / 2\\hbar^2$ is a dimensionless constant dependent on the well parameters. Equation (1) yields energy eigenvalues whose wavefunctions are even, whilst equation (2) corresponds to the energies of odd wavefunctions.\n",
    "\n",
    "These equations are transcendental, and numerical methods must be employed to obtain the solutions. Here we utilise the ```bisect``` method available in the SciPy library, and can be loaded from the `scipy.optimize` module. We have provided a simple example for using the `bisect` method in the example notebook ```scipy_bisect_example.ipynb```."
   ]
  },
  {
   "cell_type": "markdown",
   "metadata": {},
   "source": [
    "## Task 1\n",
    "#### Marks available: 2\n",
    "The first task is to define a function named `rhs(x)`, describing the right hand side of equations $(1)$ and $(2)$. The function should expect **one** argument, `x`, which is to be a NumPy array. It should then return a NumPy array containing the result of\n",
    "\n",
    "$$f(x)=\\frac{\\sqrt{\\lambda_0 - x^2}}{x}$$\n",
    "applied elementwise to `x`. \n",
    "\n",
    "The dimensionless constant $\\lambda_0$ is defined using your well parameters in the cell below. Be sure to reference this value in your `rhs` function.\n",
    "\n",
    "Note: NumPy has already been imported as `np` in the second code cell."
   ]
  },
  {
   "cell_type": "code",
   "execution_count": 3,
   "metadata": {},
   "outputs": [],
   "source": [
    "# Import the necessary constants from scipy.constants module\n",
    "from scipy import constants\n",
    "e = constants.e # Elementary Charge\n",
    "hbar = constants.hbar # Reduced Planck's constant\n",
    "m = constants.m_e # Electron mass\n",
    "\n",
    "# Do not alter this constant below (note the conversion of eV to Joules)\n",
    "lambda_0 = (m*(a**2)*V0*e)/(2*constants.hbar**2) \n",
    "\n",
    "# Write your rhs function here\n",
    "def rhs(x):\n",
    "    return np.sqrt(lambda_0 - x**2)/x"
   ]
  },
  {
   "cell_type": "markdown",
   "metadata": {},
   "source": [
    "This `rhs` function will be useful throughout this assignment, and it is worth checking that it behaves suitably. In particular, we can see that\n",
    "\n",
    "$$f(\\sqrt{\\lambda_0/2}) = 1, ~~~~ f(\\sqrt{\\lambda_0/5}) = 2.$$\n",
    "\n",
    "Therefore a NumPy array in the form `[1,2]` should be returned when you call your function with  \n",
    "`np.array([np.sqrt(lambda_0/2), np.sqrt(lambda_0/5)])` as an argument."
   ]
  },
  {
   "cell_type": "code",
   "execution_count": 4,
   "metadata": {},
   "outputs": [
    {
     "data": {
      "text/plain": [
       "array([1., 2.])"
      ]
     },
     "execution_count": 4,
     "metadata": {},
     "output_type": "execute_result"
    }
   ],
   "source": [
    "# Check your rhs function before proceeding\n",
    "rhs(np.array([np.sqrt(lambda_0/2), np.sqrt(lambda_0/5)]))"
   ]
  },
  {
   "cell_type": "markdown",
   "metadata": {},
   "source": [
    "## Task 2\n",
    "#### Marks available: 7\n",
    "\n",
    "In order to perform the bisection method, we require an interval which is known to contain a solution. Choosing this interval is straightforward if the relevant functions are represented graphically. This motivates this next task. \n",
    "\n",
    "In the following cell, use `matplotlib.pyplot` (already imported as `plt`) to plot the following three functions:\n",
    "\n",
    "$$\\tan x, ~~~~~~~ -\\cot x, ~~~~~~~ f(x)=\\frac{\\sqrt{\\lambda_0 - x^2}}{x},$$\n",
    " \n",
    "on the **half-open** interval $\\big[0.1,\\sqrt\\lambda_0\\big)$, with at least 100 points. You must add your plots to the figure object provided, `student_figure`, with all three functions appearing on the same axes. You should ensure that your plot has a title, a legend, and labelled axes. \n",
    "\n",
    "***\n",
    "This is a good example for the need to follow the instructions exactly to get full marks. The task explicitly states an 'half-open' interval. If you simply define your range as:<br>\n",
    "```python\n",
    "x = np.linspace(0.1, np.sqrt(lambda_0), 200)\n",
    "```\n",
    "you will get a closed interval and the marking script will mark you down.\n",
    "Instead you should use the following code:<br>\n",
    "```python\n",
    "x = np.linspace(0.1, np.sqrt(lambda_0), 200, endpoint=False)\n",
    "```\n",
    "To catch potential issues like this, check your data and results (in this case the end point of $x$), and use online help pages to find the right code.\n",
    "***\n",
    "\n",
    "Limiting the range of values displayed on your $y$ axis is recommended to discern suitable intervals upon which to perform the bisection method (task 4). It can also be useful to try interactive plot windows to zoom in on the crossing points."
   ]
  },
  {
   "cell_type": "code",
   "execution_count": 5,
   "metadata": {},
   "outputs": [
    {
     "data": {
      "image/png": "[encoded data removed]",
      "text/plain": [
       "<Figure size 720x432 with 1 Axes>"
      ]
     },
     "metadata": {
      "needs_background": "light"
     },
     "output_type": "display_data"
    }
   ],
   "source": [
    "# For an interactive plot:\n",
    "# %matplotlib notebook\n",
    "\n",
    "# Creating the figure to be marked\n",
    "student_figure = plt.figure(figsize=(10,6)) \n",
    "# You can now just add to and change this object by using plt.xxx function as usual. \n",
    "# Do **not** use the 'figure' command again in this task.\n",
    "# The marking script will only mark the object called 'student_figure'. \n",
    "# Do **not** add extra lines or traces to the plot \n",
    "\n",
    "# Add your code to plot onto student_figure here\n",
    "\n",
    "x = np.linspace(0.1, np.sqrt(lambda_0), 200, endpoint=False)\n",
    "\n",
    "plt.plot(x, np.tan(x), label=r'$\\tan(x)$')\n",
    "plt.plot(x, -1/np.tan(x), label=r'$-\\cot(x)$')\n",
    "plt.plot(x, rhs(x), label=r'$\\frac{\\sqrt{\\lambda_0 - x^2}}{x}$')\n",
    "\n",
    "plt.title('Plot to help choose intervals for bisection method')\n",
    "plt.xlabel('$x$')\n",
    "plt.ylabel('$f(x)$')\n",
    "\n",
    "_ = plt.legend()"
   ]
  },
  {
   "cell_type": "markdown",
   "metadata": {},
   "source": [
    "## Task 3\n",
    "#### Marks available: 4\n",
    "Next, define two more functions called `even_equation` and `odd_equation`. These should each take a NumPy array as their only argument and return a NumPy array containing the result of\n",
    "\n",
    "$$f_{\\rm even}(x) = \\tan x - \\frac{\\sqrt{\\lambda_0 - x^2}}{x}$$\n",
    "and\n",
    "$$f_{\\rm odd}(x) = \\cot x + \\frac{\\sqrt{\\lambda_0 - x^2}}{x}$$\n",
    "applied elementwise to the input array, correspondingly."
   ]
  },
  {
   "cell_type": "code",
   "execution_count": 6,
   "metadata": {},
   "outputs": [],
   "source": [
    "# Write the two required functions here\n",
    "\n",
    "def even_equation(x):\n",
    "    return np.tan(x) - np.sqrt(lambda_0-x**2)/x\n",
    "\n",
    "def odd_equation(x):\n",
    "    return 1/np.tan(x) + np.sqrt(lambda_0-x**2)/x"
   ]
  },
  {
   "cell_type": "markdown",
   "metadata": {},
   "source": [
    "## Task 4\n",
    "#### Marks available: 4\n",
    "In the tasks above, we used NumPy arrays for storing values and results. NumPy arrays are the data format we recommend for most use cases. However, sometimes you want to or have to use Python lists instead. Therefore  **the next two tasks require that you use Python lists** (you will not get marks if you use an array instead).\n",
    "\n",
    "Employing the `even_equation` and `odd_equation` functions defined in task 3, and making multiple calls to the `bisect` method on suitable intervals, find the three smallest solutions of equations $(1)$ and $(2)$ taken together. In other words, find the values of $x$ corresponding to the first three energy eigenvalues. \n",
    "\n",
    "Append these solutions in ascending order to the empty Python list `solution_list` defined below (so that `solution_list[0]` is the smallest $x$ solution and `solution_list[2]` the largest of the three).\n",
    "\n",
    "Do not round or truncate these values."
   ]
  },
  {
   "cell_type": "code",
   "execution_count": 7,
   "metadata": {},
   "outputs": [],
   "source": [
    "# Importing scipy.optimize as optimize. This command will print an \n",
    "# Import Warning for some people, which can be safely ignored\n",
    "import scipy.optimize as optimize\n",
    "\n",
    "# Append your solutions to this list, which should be sorted in ascending order\n",
    "solution_list = [] \n",
    "\n",
    "# Write code to generate solutions and append to solution_list here\n",
    "\n",
    "# The first, lowest energy solution corresponds to an even waveform\n",
    "solution_list.append(optimize.bisect(even_equation, 1.3, 1.5))\n",
    "\n",
    "# The second solution corresponds to an odd waveform\n",
    "solution_list.append(optimize.bisect(odd_equation, 2.7, 2.9))\n",
    "\n",
    "# The third solution corresponds to an even waveform\n",
    "solution_list.append(optimize.bisect(even_equation, 4.1, 4.3))"
   ]
  },
  {
   "cell_type": "markdown",
   "metadata": {},
   "source": [
    "## Task 5\n",
    "#### Marks available: 3\n",
    "The final task is to write a function named `find_energy` which takes the **previously generated, ordered list** of $x$ solutions as a parameter. It should return a new list containing the three desired energy eigenvalues expressed in units of eV. These are again to be in ascending order, but now each element should be a formatted **string** which retains **3 decimal places.**\n",
    "***\n",
    "The term \"3 decimal places\" refers to the number of digits behind the decimal point. This should include zeros as well. Examples for this formatting are:<br>\n",
    "`12.223\n",
    "-10.300\n",
    "0.550`\n",
    "***\n",
    "\n",
    "Note: You should make use of the constants defined in task 1."
   ]
  },
  {
   "cell_type": "code",
   "execution_count": 8,
   "metadata": {},
   "outputs": [],
   "source": [
    "# Write the function find_energy here\n",
    "\n",
    "def find_energy(solution_list):\n",
    "    \n",
    "    energy_list = []\n",
    "    \n",
    "    for solution in solution_list:\n",
    "        energy = 2/(m*e)*(solution*hbar/a)**2\n",
    "        energy_list.append(f'{energy:.3f}')\n",
    "        \n",
    "        # Alternative ways to format:\n",
    "        # energy_list.append(format(energy, '.3f'))\n",
    "        # energy_list.append('{:.3f}'.format(energy))\n",
    "        \n",
    "    return energy_list"
   ]
  },
  {
   "cell_type": "markdown",
   "metadata": {},
   "source": [
    "As a check, the following loop should print the three values of energy with the specified formatting:"
   ]
  },
  {
   "cell_type": "code",
   "execution_count": 9,
   "metadata": {},
   "outputs": [
    {
     "name": "stdout",
     "output_type": "stream",
     "text": [
      "Energy eigenvalue 0 is E = 0.076 eV\n",
      "Energy eigenvalue 1 is E = 0.304 eV\n",
      "Energy eigenvalue 2 is E = 0.681 eV\n"
     ]
    }
   ],
   "source": [
    "energy_solutions = find_energy(solution_list)\n",
    "\n",
    "for i, energy in enumerate(energy_solutions):\n",
    "    print('Energy eigenvalue {} is E = {} eV'.format(i, energy))"
   ]
  },
  {
   "cell_type": "markdown",
   "metadata": {},
   "source": [
    "Please execute the following statement before submitting your work. It will check that you have used correct naming for the variables and functions specified in the above tasks. It will not tell you whether you have correctly defined and implemented these! You may execute this statement as many times as required."
   ]
  },
  {
   "cell_type": "code",
   "execution_count": 10,
   "metadata": {},
   "outputs": [
    {
     "name": "stdout",
     "output_type": "stream",
     "text": [
      "rhs function is correctly named.\n",
      "even_equation function is correctly named.\n",
      "odd_equation function is correctly named.\n",
      "find_energy function is correctly named.\n",
      "solution_list variable is correctly named.\n"
     ]
    }
   ],
   "source": [
    "student.check()"
   ]
  },
  {
   "cell_type": "markdown",
   "metadata": {},
   "source": [
    "Before you submit, select 'Kernel &rarr; Restart & Run All' in the Jupyter menu. This will reset the notebook and run all your code sequentially, similar to what marking script will do."
   ]
  },
  {
   "cell_type": "markdown",
   "metadata": {},
   "source": [
    "# For demonstrators\n",
    "This example comes with the marking script included. Thus you can check your marks by exectuting the following cell. The students will not get the `marker` code and will *not* be able to do this."
   ]
  },
  {
   "cell_type": "code",
   "execution_count": 11,
   "metadata": {},
   "outputs": [
    {
     "name": "stderr",
     "output_type": "stream",
     "text": [
      "Task 1:\n",
      " We found that 'rhs' was present in your notebook's namespace and was callable. Passing a numpy array to the function did not raise an exception and the return type was a numpy array as expected. Furthermore, the elements of the returned array were numerically correct to the required tolerance.\n",
      "Score: 2/2 \n",
      "\n",
      "Task 2:\n",
      " We found that your notebook's namespace had an entry 'student_figure'. The first Axes object of 'student_figure' was accessed successfully. Your legend had 3 labelled entries as requested. You had x and y axis labels as requested. You had a title as requested. Your Axes object had 3 line objects as expected. Trace number 1 :  You also had at least 100 points in the open interval and sampled a range of x values covering 0.1 * sqrt(lambda_0) to 0.9 * sqrt(lambda_0). This line matches an expected function within relevant tolerances - well done. Trace number 2 :  You also had at least 100 points in the open interval and sampled a range of x values covering 0.1 * sqrt(lambda_0) to 0.9 * sqrt(lambda_0). This line matches an expected function within relevant tolerances - well done. Trace number 3 :  You also had at least 100 points in the open interval and sampled a range of x values covering 0.1 * sqrt(lambda_0) to 0.9 * sqrt(lambda_0). This line matches an expected function within relevant tolerances - well done. Overall, 3/3 of your x data sets were fully valid with enough points in the relevant range and 3 of your plotted functions were checked to be correct.\n",
      "Score: 7/7 \n",
      "\n",
      "Task 3:\n",
      " We found 'even_equation' to be present in the notebook's namespace and was callable. Passing a numpy array to 'even_equation'e did not raise an exception and the return type was a numpy array as expected. Furthermore, the elements of the returned array were numerically correct to the required tolerance. We found 'odd_equation' to be present in the notebook's namespace and was callable. Passing a numpy array to 'odd_equation' did not raise an exception and the return type was a numpy array as expected. Furthermore, the elements of the returned array were numerically correct to the required tolerance.\n",
      "Score: 4/4 \n",
      "\n",
      "Task 4:\n",
      " Your notebook's namespace had a list object 'solution_list', that was correctly sorted (ascending order). 3 roots were found to be numerically correct.\n",
      "Score: 4/4 \n",
      "\n",
      "Task 5:\n",
      " We found that a 'find_energy' function was present in the notebook's namespace and was callable. We passed it a list of the 3 correct roots and it returned a correctly formatted list,  of numerically correct values.\n",
      "Score: 3/3 \n",
      "\n",
      "Total assignment 1 score: 20/20\n"
     ]
    },
    {
     "name": "stdout",
     "output_type": "stream",
     "text": [
      "Marking student ID 0\n",
      "*** Using a temporary ID. Switch to your own ID as soon as possible. ***\n",
      "\n"
     ]
    }
   ],
   "source": [
    "import module_engine.marker as mark\n",
    "mk=mark.Solution1(studentID)\n",
    "mk.mark();"
   ]
  }
 ],
 "metadata": {
  "kernelspec": {
   "display_name": "Python [conda env:ringdown]",
   "language": "python",
   "name": "conda-env-ringdown-py"
  },
  "language_info": {
   "codemirror_mode": {
    "name": "ipython",
    "version": 3
   },
   "file_extension": ".py",
   "mimetype": "text/x-python",
   "name": "python",
   "nbconvert_exporter": "python",
   "pygments_lexer": "ipython3",
   "version": "3.8.8"
  }
 },
 "nbformat": 4,
 "nbformat_minor": 4
}
